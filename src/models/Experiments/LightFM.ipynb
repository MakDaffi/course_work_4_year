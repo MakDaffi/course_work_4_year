{
 "cells": [
  {
   "cell_type": "code",
   "execution_count": 1,
   "metadata": {},
   "outputs": [
    {
     "name": "stderr",
     "output_type": "stream",
     "text": [
      "/opt/homebrew/lib/python3.10/site-packages/lightfm/_lightfm_fast.py:9: UserWarning: LightFM was compiled without OpenMP support. Only a single thread will be used.\n",
      "  warnings.warn(\n"
     ]
    }
   ],
   "source": [
    "import pandas as pd\n",
    "import numpy as np\n",
    "from lightfm import LightFM\n",
    "from lightfm.data import Dataset\n",
    "from lightfm.evaluation import precision_at_k"
   ]
  },
  {
   "cell_type": "code",
   "execution_count": 2,
   "metadata": {},
   "outputs": [],
   "source": [
    "users = pd.read_csv(\"../../../data/processed_data/customers.csv\")\n",
    "items = pd.read_csv(\"../../../data/processed_data/articles.csv\", dtype={'article_id': str})\n",
    "train = pd.read_csv(\"../../../data/processed_data/transactions.csv\", dtype={'article_id': str}, parse_dates=['t_dat'])"
   ]
  },
  {
   "cell_type": "code",
   "execution_count": 3,
   "metadata": {},
   "outputs": [],
   "source": [
    "uf = []\n",
    "col = ['Active']*len(users.Active.unique()) + ['club_member_status']*len(users.club_member_status.unique()) + ['fashion_news_frequency']*len(users.fashion_news_frequency.unique()) + ['age_group']*len(users.age_group.unique()) + ['sex']*len(users.sex.unique())  + ['baby']*len(users.baby.unique())\n",
    "unique_f1 = list(users.Active.unique()) + list(users.club_member_status.unique()) + list(users.fashion_news_frequency.unique()) + list(users.age_group.unique()) + list(users.sex.unique()) + list(users.baby.unique())\n",
    "for x,y in zip(col, unique_f1):\n",
    "    res = str(x)+ \":\" +str(y)\n",
    "    uf.append(res)"
   ]
  },
  {
   "cell_type": "code",
   "execution_count": 4,
   "metadata": {},
   "outputs": [],
   "source": [
    "fi = []\n",
    "item_features = [\"product_code\",\"product_type_no\",\"graphical_appearance_no\",\"colour_group_code\",\"section_no\",\"garment_group_no\",\"season\",\"sex\",\"target_age_groupe\"]\n",
    "col = []\n",
    "unique_f1 = []\n",
    "for i in item_features:\n",
    "    col += [i] * len(items[i].unique())\n",
    "    unique_f1 += list(items[i].unique())\n",
    "for x,y in zip(col, unique_f1):\n",
    "    res = str(x)+ \":\" +str(y)\n",
    "    fi.append(res)"
   ]
  },
  {
   "cell_type": "code",
   "execution_count": 5,
   "metadata": {},
   "outputs": [
    {
     "name": "stdout",
     "output_type": "stream",
     "text": [
      "Number of users: 1362281, Number of topics: 104547.\n"
     ]
    }
   ],
   "source": [
    "dataset = Dataset()\n",
    "dataset.fit(users=users['customer_id'], \n",
    "            items=items['article_id'],\n",
    "            user_features = uf,\n",
    "            item_features=fi)\n",
    "\n",
    "num_users, num_topics = dataset.interactions_shape()\n",
    "print(f'Number of users: {num_users}, Number of topics: {num_topics}.')"
   ]
  },
  {
   "cell_type": "code",
   "execution_count": 6,
   "metadata": {},
   "outputs": [],
   "source": [
    "def feature_colon_value(features, values):\n",
    "    result = []\n",
    "    ll = features\n",
    "    aa = values\n",
    "    for x,y in zip(ll,aa):\n",
    "        res = str(x) +\":\"+ str(y)\n",
    "        result.append(res)\n",
    "    return result"
   ]
  },
  {
   "cell_type": "code",
   "execution_count": 7,
   "metadata": {},
   "outputs": [],
   "source": [
    "features = ['Active', 'club_member_status', 'fashion_news_frequency', 'age_group', 'sex', 'baby']\n",
    "ad_subset = users[features]\n",
    "ad_list = [list(x) for x in ad_subset.values]\n",
    "feature_list = []\n",
    "for item in ad_list:\n",
    "    feature_list.append(feature_colon_value(features, item))"
   ]
  },
  {
   "cell_type": "code",
   "execution_count": 8,
   "metadata": {},
   "outputs": [],
   "source": [
    "ad_subset = items[item_features]\n",
    "ad_list = [list(x) for x in ad_subset.values]\n",
    "feature_list1 = []\n",
    "for item in ad_list:\n",
    "    feature_list1.append(feature_colon_value(item_features, item))"
   ]
  },
  {
   "cell_type": "code",
   "execution_count": 9,
   "metadata": {},
   "outputs": [],
   "source": [
    "user_tuple = list(zip(users.customer_id, feature_list))\n",
    "user_features = dataset.build_user_features(user_tuple, normalize= False)\n",
    "item_tuple = list(zip(items.article_id, feature_list1))\n",
    "item_features = dataset.build_item_features(item_tuple, normalize= False)"
   ]
  },
  {
   "cell_type": "code",
   "execution_count": 11,
   "metadata": {},
   "outputs": [
    {
     "name": "stdout",
     "output_type": "stream",
     "text": [
      "(1362281, 104547) (1362281, 104547)\n"
     ]
    }
   ],
   "source": [
    "train_set = train[train.t_dat<='2020-9-15']\n",
    "val_set = train[(train.t_dat>='2020-9-16')&(train.t_dat<='2020-9-22')]\n",
    "\n",
    "(interactions, weights) = dataset.build_interactions(train_set.iloc[:, 1:3].values)\n",
    "(val_interactions, val_weights) = dataset.build_interactions(val_set.iloc[:, 1:3].values)\n",
    "print(interactions.shape, val_interactions.shape)"
   ]
  },
  {
   "cell_type": "code",
   "execution_count": 32,
   "metadata": {},
   "outputs": [
    {
     "name": "stderr",
     "output_type": "stream",
     "text": [
      "Epoch: 100%|██████████| 200/200 [14:24:22<00:00, 259.31s/it]  \n"
     ]
    },
    {
     "data": {
      "text/plain": [
       "<lightfm.lightfm.LightFM at 0x14e11dc30>"
      ]
     },
     "execution_count": 32,
     "metadata": {},
     "output_type": "execute_result"
    }
   ],
   "source": [
    "model = LightFM(loss='warp', no_components=500,\n",
    "                learning_rate=0.01,                 \n",
    "                random_state=np.random.RandomState(42))\n",
    "model.fit(interactions=interactions, epochs=200, verbose=True, num_threads=6)"
   ]
  },
  {
   "cell_type": "code",
   "execution_count": 33,
   "metadata": {},
   "outputs": [
    {
     "name": "stdout",
     "output_type": "stream",
     "text": [
      "0.0045179557\n"
     ]
    }
   ],
   "source": [
    "val_precision = precision_at_k(model, val_interactions, k=12).mean()\n",
    "\n",
    "print(val_precision)"
   ]
  },
  {
   "cell_type": "code",
   "execution_count": null,
   "metadata": {},
   "outputs": [],
   "source": [
    "import pickle\n",
    "filename = open('../weights/lightfm4.pth', 'wb') \n",
    "pickle.dump(model, filename)"
   ]
  },
  {
   "cell_type": "code",
   "execution_count": 26,
   "metadata": {},
   "outputs": [],
   "source": [
    "import pickle\n",
    "with open('../weights/lightfm3.pth', \"rb\") as fh:\n",
    "    model = pickle.load(fh)"
   ]
  },
  {
   "cell_type": "code",
   "execution_count": 14,
   "metadata": {},
   "outputs": [],
   "source": [
    "uid_map, ufeature_map, iid_map, ifeature_map = dataset.mapping()\n",
    "inv_uid_map = {v:k for k, v in uid_map.items()}\n",
    "inv_iid_map = {v:k for k, v in iid_map.items()}\n",
    "lfn_user = lambda x: uid_map[x]\n",
    "test_X_m = [lfn_user(tx) for tx in users.customer_id.unique()]"
   ]
  },
  {
   "cell_type": "code",
   "execution_count": 34,
   "metadata": {},
   "outputs": [
    {
     "name": "stderr",
     "output_type": "stream",
     "text": [
      "100%|██████████| 1362281/1362281 [13:34:18<00:00, 27.88it/s]  \n"
     ]
    }
   ],
   "source": [
    "import tqdm\n",
    "preds = {}\n",
    "for usr_ in tqdm.tqdm(test_X_m, total = len(test_X_m)):\n",
    "    m_opt = model.predict(np.array([usr_] * len(iid_map)), np.array(list(iid_map.values())))\n",
    "    pred = np.argsort(-m_opt)[:12]\n",
    "    preds[inv_uid_map[usr_]] = ' '.join([inv_iid_map[p] for p in pred]).strip()"
   ]
  },
  {
   "cell_type": "code",
   "execution_count": 35,
   "metadata": {},
   "outputs": [
    {
     "data": {
      "text/html": [
       "<div>\n",
       "<style scoped>\n",
       "    .dataframe tbody tr th:only-of-type {\n",
       "        vertical-align: middle;\n",
       "    }\n",
       "\n",
       "    .dataframe tbody tr th {\n",
       "        vertical-align: top;\n",
       "    }\n",
       "\n",
       "    .dataframe thead th {\n",
       "        text-align: right;\n",
       "    }\n",
       "</style>\n",
       "<table border=\"1\" class=\"dataframe\">\n",
       "  <thead>\n",
       "    <tr style=\"text-align: right;\">\n",
       "      <th></th>\n",
       "      <th>customer_id</th>\n",
       "      <th>prediction</th>\n",
       "    </tr>\n",
       "  </thead>\n",
       "  <tbody>\n",
       "    <tr>\n",
       "      <th>0</th>\n",
       "      <td>00000dbacae5abe5e23885899a1fa44253a17956c6d1c3...</td>\n",
       "      <td>0568601006 0841260003 0568597006 0656719005 08...</td>\n",
       "    </tr>\n",
       "    <tr>\n",
       "      <th>1</th>\n",
       "      <td>0000423b00ade91418cceaf3b26c6af3dd342b51fd051e...</td>\n",
       "      <td>0599580024 0599580049 0590928022 0811835004 03...</td>\n",
       "    </tr>\n",
       "    <tr>\n",
       "      <th>2</th>\n",
       "      <td>000058a12d5b43e67d225668fa1f8d618c13dc232df0ca...</td>\n",
       "      <td>0351484002 0723529001 0663713001 0859139002 07...</td>\n",
       "    </tr>\n",
       "    <tr>\n",
       "      <th>3</th>\n",
       "      <td>00005ca1c9ed5f5146b52ac8639a40ca9d57aeff4d1bd2...</td>\n",
       "      <td>0732413001 0742079001 0730683001 0757303012 07...</td>\n",
       "    </tr>\n",
       "    <tr>\n",
       "      <th>4</th>\n",
       "      <td>00006413d8573cd20ed7128e53b7b13819fe5cfc2d801f...</td>\n",
       "      <td>0399061015 0698286003 0707704003 0692721005 07...</td>\n",
       "    </tr>\n",
       "  </tbody>\n",
       "</table>\n",
       "</div>"
      ],
      "text/plain": [
       "                                         customer_id  \\\n",
       "0  00000dbacae5abe5e23885899a1fa44253a17956c6d1c3...   \n",
       "1  0000423b00ade91418cceaf3b26c6af3dd342b51fd051e...   \n",
       "2  000058a12d5b43e67d225668fa1f8d618c13dc232df0ca...   \n",
       "3  00005ca1c9ed5f5146b52ac8639a40ca9d57aeff4d1bd2...   \n",
       "4  00006413d8573cd20ed7128e53b7b13819fe5cfc2d801f...   \n",
       "\n",
       "                                          prediction  \n",
       "0  0568601006 0841260003 0568597006 0656719005 08...  \n",
       "1  0599580024 0599580049 0590928022 0811835004 03...  \n",
       "2  0351484002 0723529001 0663713001 0859139002 07...  \n",
       "3  0732413001 0742079001 0730683001 0757303012 07...  \n",
       "4  0399061015 0698286003 0707704003 0692721005 07...  "
      ]
     },
     "execution_count": 35,
     "metadata": {},
     "output_type": "execute_result"
    }
   ],
   "source": [
    "sub = pd.read_csv('../../../data/sample_submission.csv')\n",
    "sub.prediction = sub.customer_id.apply(lambda x: preds[x] if x in preds.keys() else x)\n",
    "sub.head()"
   ]
  },
  {
   "cell_type": "code",
   "execution_count": 36,
   "metadata": {},
   "outputs": [],
   "source": [
    "sub.to_csv('../../../data/submissions/lightfm_submission4.csv', index=False)"
   ]
  }
 ],
 "metadata": {
  "kernelspec": {
   "display_name": "Python 3",
   "language": "python",
   "name": "python3"
  },
  "language_info": {
   "codemirror_mode": {
    "name": "ipython",
    "version": 3
   },
   "file_extension": ".py",
   "mimetype": "text/x-python",
   "name": "python",
   "nbconvert_exporter": "python",
   "pygments_lexer": "ipython3",
   "version": "3.10.10"
  },
  "orig_nbformat": 4
 },
 "nbformat": 4,
 "nbformat_minor": 2
}
